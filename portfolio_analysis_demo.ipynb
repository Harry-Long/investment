{
 "cells": [
  {
   "cell_type": "markdown",
   "id": "bf74e722",
   "metadata": {
    "editable": true,
    "slideshow": {
     "slide_type": ""
    },
    "tags": []
   },
   "source": [
    "\n",
    "# Portfolio Analysis Demo (QuantStats + PyPortfolioOpt)\n",
    "\n",
    "This notebook is a minimal, offline-ready demo that shows how to:\n",
    "- Generate synthetic price data for a few tickers\n",
    "- Compute returns and basic risk metrics\n",
    "- Create a quick performance summary with **QuantStats**\n",
    "- Optimize weights with **PyPortfolioOpt** (mean-variance example)\n",
    "- Plot equity curve and risk contributions\n",
    "\n",
    "> Run this inside your `invest` conda environment:\n",
    ">\n",
    "> ```bash\n",
    "> conda activate invest\n",
    "> jupyter lab\n",
    "> ```\n"
   ]
  },
  {
   "cell_type": "code",
   "execution_count": 1,
   "id": "6500a570",
   "metadata": {},
   "outputs": [
    {
     "name": "stdout",
     "output_type": "stream",
     "text": [
      "Python: 3.11.13 | Platform: macOS-15.6.1-arm64-arm-64bit\n"
     ]
    },
    {
     "name": "stderr",
     "output_type": "stream",
     "text": [
      "Matplotlib is building the font cache; this may take a moment.\n"
     ]
    }
   ],
   "source": [
    "\n",
    "# Versions and imports\n",
    "import sys, platform\n",
    "print('Python:', sys.version.split()[0], '| Platform:', platform.platform())\n",
    "\n",
    "import numpy as np\n",
    "import pandas as pd\n",
    "import matplotlib.pyplot as plt\n",
    "\n",
    "# QuantStats and PyPortfolioOpt\n",
    "import quantstats as qs\n",
    "from pypfopt import expected_returns, risk_models, EfficientFrontier, objective_functions\n",
    "\n",
    "# Make plots inline if in Jupyter\n",
    "%matplotlib inline\n"
   ]
  },
  {
   "cell_type": "markdown",
   "id": "473c6437",
   "metadata": {},
   "source": [
    "\n",
    "## 1. Generate synthetic price data\n",
    "We simulate daily prices for 4 tickers over ~2 years of business days. This avoids any external data dependency.\n"
   ]
  },
  {
   "cell_type": "code",
   "execution_count": 2,
   "id": "d336332b",
   "metadata": {},
   "outputs": [
    {
     "data": {
      "text/html": [
       "<div>\n",
       "<style scoped>\n",
       "    .dataframe tbody tr th:only-of-type {\n",
       "        vertical-align: middle;\n",
       "    }\n",
       "\n",
       "    .dataframe tbody tr th {\n",
       "        vertical-align: top;\n",
       "    }\n",
       "\n",
       "    .dataframe thead th {\n",
       "        text-align: right;\n",
       "    }\n",
       "</style>\n",
       "<table border=\"1\" class=\"dataframe\">\n",
       "  <thead>\n",
       "    <tr style=\"text-align: right;\">\n",
       "      <th></th>\n",
       "      <th>VTI</th>\n",
       "      <th>VXUS</th>\n",
       "      <th>BND</th>\n",
       "      <th>BIL</th>\n",
       "    </tr>\n",
       "  </thead>\n",
       "  <tbody>\n",
       "    <tr>\n",
       "      <th>2023-01-03</th>\n",
       "      <td>200.000000</td>\n",
       "      <td>60.000000</td>\n",
       "      <td>75.000000</td>\n",
       "      <td>100.000000</td>\n",
       "    </tr>\n",
       "    <tr>\n",
       "      <th>2023-01-04</th>\n",
       "      <td>201.189934</td>\n",
       "      <td>59.912149</td>\n",
       "      <td>75.192531</td>\n",
       "      <td>100.103878</td>\n",
       "    </tr>\n",
       "    <tr>\n",
       "      <th>2023-01-05</th>\n",
       "      <td>200.719634</td>\n",
       "      <td>59.752059</td>\n",
       "      <td>75.650296</td>\n",
       "      <td>100.160217</td>\n",
       "    </tr>\n",
       "    <tr>\n",
       "      <th>2023-01-06</th>\n",
       "      <td>199.714856</td>\n",
       "      <td>60.177099</td>\n",
       "      <td>75.526797</td>\n",
       "      <td>100.138781</td>\n",
       "    </tr>\n",
       "    <tr>\n",
       "      <th>2023-01-09</th>\n",
       "      <td>200.326194</td>\n",
       "      <td>58.743242</td>\n",
       "      <td>75.043385</td>\n",
       "      <td>100.111259</td>\n",
       "    </tr>\n",
       "  </tbody>\n",
       "</table>\n",
       "</div>"
      ],
      "text/plain": [
       "                   VTI       VXUS        BND         BIL\n",
       "2023-01-03  200.000000  60.000000  75.000000  100.000000\n",
       "2023-01-04  201.189934  59.912149  75.192531  100.103878\n",
       "2023-01-05  200.719634  59.752059  75.650296  100.160217\n",
       "2023-01-06  199.714856  60.177099  75.526797  100.138781\n",
       "2023-01-09  200.326194  58.743242  75.043385  100.111259"
      ]
     },
     "execution_count": 2,
     "metadata": {},
     "output_type": "execute_result"
    }
   ],
   "source": [
    "\n",
    "import numpy as np, pandas as pd\n",
    "np.random.seed(42)\n",
    "dates = pd.date_range('2023-01-03', periods=252*2, freq='B')\n",
    "tickers = ['VTI','VXUS','BND','BIL']\n",
    "\n",
    "# annualized drifts and vols (illustrative only)\n",
    "mu_ann = np.array([0.08, 0.07, 0.03, 0.02])\n",
    "vol_ann = np.array([0.18, 0.20, 0.06, 0.01])\n",
    "\n",
    "mu_d = mu_ann / 252.0\n",
    "vol_d = vol_ann / np.sqrt(252.0)\n",
    "\n",
    "prices = pd.DataFrame(index=dates, columns=tickers, dtype=float)\n",
    "prices.iloc[0] = [200.0, 60.0, 75.0, 100.0]\n",
    "for t in range(1, len(dates)):\n",
    "    shock = np.random.normal(0, vol_d)\n",
    "    prices.iloc[t] = prices.iloc[t-1] * (1 + mu_d + shock)\n",
    "\n",
    "prices.head()\n"
   ]
  },
  {
   "cell_type": "markdown",
   "id": "0688fd2b",
   "metadata": {},
   "source": [
    "\n",
    "## 2. Compute returns and basic metrics\n",
    "We will use log returns for aggregation and transform to arithmetic returns for some libraries.\n"
   ]
  },
  {
   "cell_type": "code",
   "execution_count": 3,
   "id": "283ff331",
   "metadata": {},
   "outputs": [
    {
     "data": {
      "text/html": [
       "<div>\n",
       "<style scoped>\n",
       "    .dataframe tbody tr th:only-of-type {\n",
       "        vertical-align: middle;\n",
       "    }\n",
       "\n",
       "    .dataframe tbody tr th {\n",
       "        vertical-align: top;\n",
       "    }\n",
       "\n",
       "    .dataframe thead th {\n",
       "        text-align: right;\n",
       "    }\n",
       "</style>\n",
       "<table border=\"1\" class=\"dataframe\">\n",
       "  <thead>\n",
       "    <tr style=\"text-align: right;\">\n",
       "      <th></th>\n",
       "      <th>VTI</th>\n",
       "      <th>VXUS</th>\n",
       "      <th>BND</th>\n",
       "      <th>BIL</th>\n",
       "    </tr>\n",
       "  </thead>\n",
       "  <tbody>\n",
       "    <tr>\n",
       "      <th>count</th>\n",
       "      <td>503.000000</td>\n",
       "      <td>503.000000</td>\n",
       "      <td>503.000000</td>\n",
       "      <td>503.000000</td>\n",
       "    </tr>\n",
       "    <tr>\n",
       "      <th>mean</th>\n",
       "      <td>0.000593</td>\n",
       "      <td>0.001113</td>\n",
       "      <td>0.000244</td>\n",
       "      <td>0.000108</td>\n",
       "    </tr>\n",
       "    <tr>\n",
       "      <th>std</th>\n",
       "      <td>0.010511</td>\n",
       "      <td>0.012706</td>\n",
       "      <td>0.003773</td>\n",
       "      <td>0.000642</td>\n",
       "    </tr>\n",
       "    <tr>\n",
       "      <th>min</th>\n",
       "      <td>-0.029742</td>\n",
       "      <td>-0.036212</td>\n",
       "      <td>-0.012132</td>\n",
       "      <td>-0.001773</td>\n",
       "    </tr>\n",
       "    <tr>\n",
       "      <th>25%</th>\n",
       "      <td>-0.006690</td>\n",
       "      <td>-0.007438</td>\n",
       "      <td>-0.002177</td>\n",
       "      <td>-0.000342</td>\n",
       "    </tr>\n",
       "    <tr>\n",
       "      <th>50%</th>\n",
       "      <td>0.000834</td>\n",
       "      <td>0.001201</td>\n",
       "      <td>0.000226</td>\n",
       "      <td>0.000098</td>\n",
       "    </tr>\n",
       "    <tr>\n",
       "      <th>75%</th>\n",
       "      <td>0.007520</td>\n",
       "      <td>0.009125</td>\n",
       "      <td>0.002627</td>\n",
       "      <td>0.000549</td>\n",
       "    </tr>\n",
       "    <tr>\n",
       "      <th>max</th>\n",
       "      <td>0.028970</td>\n",
       "      <td>0.048818</td>\n",
       "      <td>0.011756</td>\n",
       "      <td>0.002091</td>\n",
       "    </tr>\n",
       "  </tbody>\n",
       "</table>\n",
       "</div>"
      ],
      "text/plain": [
       "              VTI        VXUS         BND         BIL\n",
       "count  503.000000  503.000000  503.000000  503.000000\n",
       "mean     0.000593    0.001113    0.000244    0.000108\n",
       "std      0.010511    0.012706    0.003773    0.000642\n",
       "min     -0.029742   -0.036212   -0.012132   -0.001773\n",
       "25%     -0.006690   -0.007438   -0.002177   -0.000342\n",
       "50%      0.000834    0.001201    0.000226    0.000098\n",
       "75%      0.007520    0.009125    0.002627    0.000549\n",
       "max      0.028970    0.048818    0.011756    0.002091"
      ]
     },
     "execution_count": 3,
     "metadata": {},
     "output_type": "execute_result"
    }
   ],
   "source": [
    "\n",
    "logret = np.log(prices).diff().dropna()\n",
    "ret = logret.apply(np.exp) - 1.0  # convert to simple returns\n",
    "ret.describe()\n"
   ]
  },
  {
   "cell_type": "markdown",
   "id": "7a1647b6",
   "metadata": {},
   "source": [
    "\n",
    "## 3. Quick performance summary with QuantStats\n",
    "QuantStats can compute a variety of metrics and plots. We will build a simple **portfolio** using naive 60/20/18/2 weights and view the metrics.\n"
   ]
  },
  {
   "cell_type": "code",
   "execution_count": 4,
   "id": "176733e6",
   "metadata": {},
   "outputs": [
    {
     "name": "stdout",
     "output_type": "stream",
     "text": [
      "                     Strategy\n",
      "-------------------  ----------\n",
      "Start Period         2023-01-04\n",
      "End Period           2024-12-06\n",
      "Risk-Free Rate       0.0%\n",
      "Time in Market       100.0%\n",
      "\n",
      "Cumulative Return    35.36%\n",
      "CAGR﹪               16.38%\n",
      "\n",
      "Sharpe               1.47\n",
      "Prob. Sharpe Ratio   98.15%\n",
      "Sortino              2.28\n",
      "Sortino/√2           1.61\n",
      "Omega                1.26\n",
      "\n",
      "Max Drawdown         -10.53%\n",
      "Max DD Date          2023-09-25\n",
      "Max DD Period Start  2023-06-08\n",
      "Max DD Period End    2023-12-19\n",
      "Longest DD Days      195\n",
      "\n",
      "Gain/Pain Ratio      0.26\n",
      "Gain/Pain (1M)       2.0\n",
      "\n",
      "Payoff Ratio         1.08\n",
      "Profit Factor        1.26\n",
      "Common Sense Ratio   1.46\n",
      "CPC Index            0.73\n",
      "Tail Ratio           1.16\n",
      "Outlier Win Ratio    2.79\n",
      "Outlier Loss Ratio   2.7\n",
      "\n",
      "MTD                  -0.33%\n",
      "3M                   0.58%\n",
      "6M                   9.2%\n",
      "YTD                  21.92%\n",
      "1Y                   30.16%\n",
      "3Y (ann.)            16.38%\n",
      "5Y (ann.)            16.38%\n",
      "10Y (ann.)           16.38%\n",
      "All-time (ann.)      16.38%\n",
      "\n",
      "Avg. Drawdown        -2.08%\n",
      "Avg. Drawdown Days   28\n",
      "Recovery Factor      2.98\n",
      "Ulcer Index          0.03\n",
      "Serenity Index       0.73\n"
     ]
    }
   ],
   "source": [
    "\n",
    "import quantstats as qs\n",
    "w = pd.Series({'VTI':0.60,'VXUS':0.20,'BND':0.18,'BIL':0.02})\n",
    "w = w / w.sum()\n",
    "\n",
    "# portfolio daily returns (weighted sum of component returns)\n",
    "pf_ret = (ret * w).sum(axis=1)\n",
    "\n",
    "# Basic stats table\n",
    "qs.reports.metrics(pf_ret, display=True, mode='basic')\n"
   ]
  },
  {
   "cell_type": "markdown",
   "id": "359cb95f",
   "metadata": {},
   "source": [
    "\n",
    "### Equity curve\n"
   ]
  },
  {
   "cell_type": "code",
   "execution_count": 5,
   "id": "6a8c9fb5",
   "metadata": {},
   "outputs": [
    {
     "data": {
      "image/png": "[encoded data removed]",
      "text/plain": [
       "<Figure size 800x400 with 1 Axes>"
      ]
     },
     "metadata": {},
     "output_type": "display_data"
    }
   ],
   "source": [
    "\n",
    "nav = (1 + pf_ret).cumprod()\n",
    "plt.figure(figsize=(8,4))\n",
    "plt.plot(nav.index, nav.values)\n",
    "plt.title('Portfolio Net Asset Value (Synthetic)')\n",
    "plt.xlabel('Date')\n",
    "plt.ylabel('NAV')\n",
    "plt.show()\n"
   ]
  },
  {
   "cell_type": "markdown",
   "id": "bdb0fd3b",
   "metadata": {},
   "source": [
    "\n",
    "## 4. Optimize weights with PyPortfolioOpt\n",
    "We use mean-variance optimization with a target of maximizing the Sharpe ratio, along with an L2 regularization term to avoid extreme weights.\n"
   ]
  },
  {
   "cell_type": "code",
   "execution_count": 6,
   "id": "37e42895",
   "metadata": {},
   "outputs": [
    {
     "name": "stdout",
     "output_type": "stream",
     "text": [
      "Expected annual return: 8.8%\n",
      "Annual volatility: 3.7%\n",
      "Sharpe Ratio: 2.37\n"
     ]
    },
    {
     "name": "stderr",
     "output_type": "stream",
     "text": [
      "/Users/harryzhang/miniforge3/envs/invest/lib/python3.11/site-packages/pypfopt/efficient_frontier/efficient_frontier.py:259: UserWarning: max_sharpe transforms the optimization problem so additional objectives may not work as expected.\n",
      "  warnings.warn(\n"
     ]
    },
    {
     "data": {
      "text/plain": [
       "OrderedDict([('VTI', 0.1064),\n",
       "             ('VXUS', 0.14193),\n",
       "             ('BND', 0.27966),\n",
       "             ('BIL', 0.47201)])"
      ]
     },
     "execution_count": 6,
     "metadata": {},
     "output_type": "execute_result"
    }
   ],
   "source": [
    "\n",
    "from pypfopt import expected_returns, risk_models, EfficientFrontier, objective_functions\n",
    "\n",
    "mu = expected_returns.mean_historical_return(prices, frequency=252)  # expected annual return\n",
    "S = risk_models.sample_cov(prices, frequency=252)                    # annualized covariance\n",
    "\n",
    "ef = EfficientFrontier(mu, S)\n",
    "ef.add_objective(objective_functions.L2_reg, gamma=0.001)\n",
    "opt_w = ef.max_sharpe(risk_free_rate=0.0)\n",
    "clean_w = ef.clean_weights()\n",
    "perf = ef.portfolio_performance(verbose=True, risk_free_rate=0.0)\n",
    "\n",
    "clean_w\n"
   ]
  },
  {
   "cell_type": "markdown",
   "id": "5621c8e8",
   "metadata": {},
   "source": [
    "\n",
    "### Risk contributions (from covariance and optimized weights)\n"
   ]
  },
  {
   "cell_type": "code",
   "execution_count": 7,
   "id": "ceb62563",
   "metadata": {},
   "outputs": [
    {
     "data": {
      "text/html": [
       "<div>\n",
       "<style scoped>\n",
       "    .dataframe tbody tr th:only-of-type {\n",
       "        vertical-align: middle;\n",
       "    }\n",
       "\n",
       "    .dataframe tbody tr th {\n",
       "        vertical-align: top;\n",
       "    }\n",
       "\n",
       "    .dataframe thead th {\n",
       "        text-align: right;\n",
       "    }\n",
       "</style>\n",
       "<table border=\"1\" class=\"dataframe\">\n",
       "  <thead>\n",
       "    <tr style=\"text-align: right;\">\n",
       "      <th></th>\n",
       "      <th>RiskContribution</th>\n",
       "    </tr>\n",
       "  </thead>\n",
       "  <tbody>\n",
       "    <tr>\n",
       "      <th>VXUS</th>\n",
       "      <td>0.021560</td>\n",
       "    </tr>\n",
       "    <tr>\n",
       "      <th>VTI</th>\n",
       "      <td>0.007792</td>\n",
       "    </tr>\n",
       "    <tr>\n",
       "      <th>BND</th>\n",
       "      <td>0.006908</td>\n",
       "    </tr>\n",
       "    <tr>\n",
       "      <th>BIL</th>\n",
       "      <td>0.000787</td>\n",
       "    </tr>\n",
       "  </tbody>\n",
       "</table>\n",
       "</div>"
      ],
      "text/plain": [
       "      RiskContribution\n",
       "VXUS          0.021560\n",
       "VTI           0.007792\n",
       "BND           0.006908\n",
       "BIL           0.000787"
      ]
     },
     "execution_count": 7,
     "metadata": {},
     "output_type": "execute_result"
    }
   ],
   "source": [
    "\n",
    "import numpy as np, pandas as pd\n",
    "\n",
    "def annualized_cov(returns: pd.DataFrame, periods_per_year=252) -> pd.DataFrame:\n",
    "    return returns.cov() * periods_per_year\n",
    "\n",
    "def portfolio_volatility(w: pd.Series, cov: pd.DataFrame) -> float:\n",
    "    w = w.values if isinstance(w, pd.Series) else np.asarray(w)\n",
    "    v = float(np.sqrt(max(w @ cov.values @ w, 0.0)))\n",
    "    return v\n",
    "\n",
    "def risk_contribution(w: pd.Series, cov: pd.DataFrame) -> pd.Series:\n",
    "    wv = pd.Series(w, index=cov.index)\n",
    "    total_vol = portfolio_volatility(wv, cov)\n",
    "    mrc = cov @ wv  # marginal risk contribution\n",
    "    rc = wv * mrc / total_vol\n",
    "    return rc\n",
    "\n",
    "cov_a = annualized_cov(ret)\n",
    "opt_w_series = pd.Series(clean_w).reindex(cov_a.index).fillna(0.0)\n",
    "rc = risk_contribution(opt_w_series, cov_a).sort_values(ascending=False)\n",
    "rc.to_frame('RiskContribution')\n"
   ]
  },
  {
   "cell_type": "markdown",
   "id": "94a6aa2c",
   "metadata": {},
   "source": [
    "\n",
    "## 5. Value-at-Risk (VaR) and Expected Shortfall (ES)\n",
    "Historical method on portfolio daily returns.\n"
   ]
  },
  {
   "cell_type": "code",
   "execution_count": 8,
   "id": "5cd49b2e",
   "metadata": {},
   "outputs": [
    {
     "data": {
      "text/plain": [
       "({'VaR': -0.0035010370153364424, 'ES': -0.004336836357091529},\n",
       " {'VaR': -0.004971343247503935, 'ES': -0.005346931195132361})"
      ]
     },
     "execution_count": 8,
     "metadata": {},
     "output_type": "execute_result"
    }
   ],
   "source": [
    "\n",
    "def var_es_hist(ret_series: pd.Series, alpha=0.95):\n",
    "    q = ret_series.quantile(1 - alpha)\n",
    "    es = ret_series[ret_series <= q].mean()\n",
    "    return {\"VaR\": float(q), \"ES\": float(es)}\n",
    "\n",
    "# Use optimized weights to form portfolio returns\n",
    "pf_ret_opt = (ret * opt_w_series.reindex(ret.columns).fillna(0.0)).sum(axis=1)\n",
    "risk_95 = var_es_hist(pf_ret_opt, alpha=0.95)\n",
    "risk_99 = var_es_hist(pf_ret_opt, alpha=0.99)\n",
    "risk_95, risk_99\n"
   ]
  },
  {
   "cell_type": "markdown",
   "id": "f88c452f",
   "metadata": {},
   "source": [
    "\n",
    "## 6. Wrap up\n",
    "You now have:\n",
    "- Synthetic prices and returns\n",
    "- A quick QuantStats summary\n",
    "- Mean-variance optimized weights from PyPortfolioOpt\n",
    "- Risk contributions and VaR/ES estimates\n",
    "\n",
    "Next steps you can try:\n",
    "- Swap synthetic data for your real data source\n",
    "- Add transaction costs and turnover constraints in the optimizer\n",
    "- Run scenario replays and drawdown analyses for stress testing\n"
   ]
  }
 ],
 "metadata": {
  "kernelspec": {
   "display_name": "Python (invest)",
   "language": "python",
   "name": "invest"
  },
  "language_info": {
   "codemirror_mode": {
    "name": "ipython",
    "version": 3
   },
   "file_extension": ".py",
   "mimetype": "text/x-python",
   "name": "python",
   "nbconvert_exporter": "python",
   "pygments_lexer": "ipython3",
   "version": "3.11.13"
  }
 },
 "nbformat": 4,
 "nbformat_minor": 5
}
